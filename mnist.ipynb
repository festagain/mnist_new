{
 "cells": [
  {
   "cell_type": "code",
   "execution_count": 1,
   "outputs": [
    {
     "name": "stderr",
     "output_type": "stream",
     "text": [
      "/home/fest/anaconda3/envs/pythonProject/lib/python3.10/site-packages/torchvision/io/image.py:13: UserWarning: Failed to load image Python extension: /home/fest/anaconda3/envs/pythonProject/lib/python3.10/site-packages/torchvision/image.so: undefined symbol: _ZN2at4_ops19empty_memory_format4callEN3c108ArrayRefIlEENS2_8optionalINS2_10ScalarTypeEEENS5_INS2_6LayoutEEENS5_INS2_6DeviceEEENS5_IbEENS5_INS2_12MemoryFormatEEE\n",
      "  warn(f\"Failed to load image Python extension: {e}\")\n"
     ]
    }
   ],
   "source": [
    "import numpy as np\n",
    "import cv2\n",
    "import os\n",
    "import random\n",
    "import torch\n",
    "from torch.autograd import Variable\n",
    "from torchvision import transforms\n",
    "output_path = \"mnist_train_images/\""
   ],
   "metadata": {
    "collapsed": false,
    "ExecuteTime": {
     "start_time": "2023-04-30T20:00:52.466585Z",
     "end_time": "2023-04-30T20:00:53.037073Z"
    }
   }
  },
  {
   "cell_type": "code",
   "execution_count": 2,
   "metadata": {
    "ExecuteTime": {
     "start_time": "2023-04-30T20:00:55.412978Z",
     "end_time": "2023-04-30T20:01:15.540086Z"
    }
   },
   "outputs": [],
   "source": [
    "data = np.genfromtxt(\"mnist_train.csv\", delimiter=',', skip_header=1)\n",
    "labels = data[:, 0].astype(np.uint8)\n",
    "values = data[:,1:].astype(np.uint8)\n",
    "images = np.reshape(values, (-1,28,28))\n"
   ]
  },
  {
   "cell_type": "code",
   "execution_count": 9,
   "metadata": {
    "ExecuteTime": {
     "start_time": "2023-04-25T21:45:46.151336Z",
     "end_time": "2023-04-25T21:45:50.646081Z"
    }
   },
   "outputs": [],
   "source": [
    "\n",
    "# os.makedirs(output_path, exist_ok=True)\n",
    "# for i in range(len(images)):\n",
    "#     filename = os.path.join(output_path, f'{i}.jpg')\n",
    "#     cv2.imwrite(filename, images[i])"
   ]
  },
  {
   "cell_type": "code",
   "execution_count": 34,
   "outputs": [],
   "source": [
    "# images1 = []\n",
    "# images_path = [os.path.join(output_path, f) for f in os.listdir(output_path) if f.endswith('.jpg')]\n",
    "# for i, path in enumerate(images_path):\n",
    "#     temp = cv2.imread(path, cv2.IMREAD_GRAYSCALE)\n",
    "#     if i != 60000:\n",
    "#         images1.append(temp)"
   ],
   "metadata": {
    "collapsed": false,
    "ExecuteTime": {
     "start_time": "2023-04-25T22:56:23.190418Z",
     "end_time": "2023-04-25T22:56:24.646714Z"
    }
   }
  },
  {
   "cell_type": "code",
   "execution_count": 38,
   "outputs": [],
   "source": [
    "# images1 = np.asarray(images1)"
   ],
   "metadata": {
    "collapsed": false,
    "ExecuteTime": {
     "start_time": "2023-04-25T23:11:16.753840Z",
     "end_time": "2023-04-25T23:11:16.784710Z"
    }
   }
  },
  {
   "cell_type": "code",
   "execution_count": 3,
   "outputs": [],
   "source": [
    "learning_rate = 0.01\n",
    "batch_size = 200\n",
    "epochs = 10\n",
    "log_interval = 10"
   ],
   "metadata": {
    "collapsed": false,
    "ExecuteTime": {
     "start_time": "2023-04-30T20:01:17.222090Z",
     "end_time": "2023-04-30T20:01:17.235585Z"
    }
   }
  },
  {
   "cell_type": "code",
   "execution_count": 4,
   "outputs": [],
   "source": [
    "import torch.nn as nn\n",
    "import torch.nn.functional as F\n",
    "import torch.optim as optim"
   ],
   "metadata": {
    "collapsed": false,
    "ExecuteTime": {
     "start_time": "2023-04-30T20:01:18.433755Z",
     "end_time": "2023-04-30T20:01:18.447113Z"
    }
   }
  },
  {
   "cell_type": "code",
   "execution_count": 5,
   "outputs": [],
   "source": [
    "class Net(nn.Module):\n",
    "    def __init__(self):\n",
    "        super(Net, self).__init__()\n",
    "        self.fc1 = nn.Linear(28*28, 200)\n",
    "        self.fc2 = nn.Linear(200, 200)\n",
    "        self.fc3 = nn.Linear(200, 10)\n",
    "    def forward(self, x):\n",
    "        x = F.relu(self.fc1(x))\n",
    "        x = F.relu(self.fc2(x))\n",
    "        x = self.fc3(x)\n",
    "        return F.log_softmax(x)\n"
   ],
   "metadata": {
    "collapsed": false,
    "ExecuteTime": {
     "start_time": "2023-04-30T20:01:19.754507Z",
     "end_time": "2023-04-30T20:01:19.763725Z"
    }
   }
  },
  {
   "cell_type": "code",
   "execution_count": 6,
   "outputs": [
    {
     "data": {
      "text/plain": "Net(\n  (fc1): Linear(in_features=784, out_features=200, bias=True)\n  (fc2): Linear(in_features=200, out_features=200, bias=True)\n  (fc3): Linear(in_features=200, out_features=10, bias=True)\n)"
     },
     "execution_count": 6,
     "metadata": {},
     "output_type": "execute_result"
    }
   ],
   "source": [
    "net = Net()\n",
    "net"
   ],
   "metadata": {
    "collapsed": false,
    "ExecuteTime": {
     "start_time": "2023-04-30T20:01:20.748778Z",
     "end_time": "2023-04-30T20:01:20.764207Z"
    }
   }
  },
  {
   "cell_type": "code",
   "execution_count": 7,
   "outputs": [],
   "source": [
    "optimizer = optim.SGD(net.parameters(), lr = learning_rate, momentum=0.9)\n",
    "criterion = nn.NLLLoss()"
   ],
   "metadata": {
    "collapsed": false,
    "ExecuteTime": {
     "start_time": "2023-04-30T20:01:21.766892Z",
     "end_time": "2023-04-30T20:01:21.775318Z"
    }
   }
  },
  {
   "cell_type": "code",
   "execution_count": 8,
   "outputs": [],
   "source": [
    "def rot_mat(deg):\n",
    "   theta = deg/ 180 * np.pi\n",
    "   c,s = np.cos(theta),np.sin(theta)\n",
    "   return np.array([[c,-s],[s,c]])"
   ],
   "metadata": {
    "collapsed": false,
    "ExecuteTime": {
     "start_time": "2023-04-30T20:01:22.701027Z",
     "end_time": "2023-04-30T20:01:22.710080Z"
    }
   }
  },
  {
   "cell_type": "code",
   "execution_count": 9,
   "outputs": [],
   "source": [
    "def rotate(im):\n",
    "    degree = random.randint(1,180)\n",
    "    h, w, c = im.shape\n",
    "    h2, w2 = h // 2, w // 2\n",
    "    wr2, hr2 = (np.max(np.abs(rot_mat(degree) @ np.array([[-w2, w2, w2], [h2, h2, -h2]])), axis=1)).astype(np.int32)\n",
    "    wr, hr = wr2 * 2, hr2 * 2\n",
    "    imr = np.zeros((wr, hr, 3))\n",
    "    yr, xr = np.indices((hr, wr))\n",
    "    yr, xr = yr.flatten(), xr.flatten()\n",
    "    yrc, xrc = yr - hr2, xr - wr2\n",
    "    xc, yc = (rot_mat(-degree) @ np.row_stack((xrc, yrc))).astype(np.int32)\n",
    "    x, y = xc + w2, yc + h2\n",
    "    include = np.logical_and(np.abs(xc) < w2, np.abs(yc) < h2)\n",
    "    include.mean()\n",
    "    imr[yr[include], xr[include]] = im[y[include], x[include]]\n",
    "    return imr"
   ],
   "metadata": {
    "collapsed": false,
    "ExecuteTime": {
     "start_time": "2023-04-30T20:01:23.313079Z",
     "end_time": "2023-04-30T20:01:23.330391Z"
    }
   }
  },
  {
   "cell_type": "code",
   "execution_count": 10,
   "outputs": [],
   "source": [
    "def noise(im):\n",
    "    noize = np.zeros(im.shape,np.uint8)\n",
    "    cv2.randn(noize,0,50)\n",
    "    n_im = cv2.add(im,noize)\n",
    "    return n_im"
   ],
   "metadata": {
    "collapsed": false,
    "ExecuteTime": {
     "start_time": "2023-04-30T20:01:24.037445Z",
     "end_time": "2023-04-30T20:01:24.044717Z"
    }
   }
  },
  {
   "cell_type": "code",
   "execution_count": 19,
   "outputs": [],
   "source": [
    "def normalize(im):\n",
    "    normalized_image = cv2.normalize(im,None,0,255,cv2.NORM_MINMAX)\n",
    "    normalized_image = np.uint8(normalized_image)\n",
    "    return normalized_image"
   ],
   "metadata": {
    "collapsed": false,
    "ExecuteTime": {
     "start_time": "2023-04-30T20:03:37.534667Z",
     "end_time": "2023-04-30T20:03:37.556324Z"
    }
   }
  },
  {
   "cell_type": "code",
   "execution_count": 20,
   "outputs": [],
   "source": [
    "def tensor(im):\n",
    "    tensor_image = np.expand_dims(im, axis=0)\n",
    "    return tensor_image"
   ],
   "metadata": {
    "collapsed": false,
    "ExecuteTime": {
     "start_time": "2023-04-30T20:03:38.691695Z",
     "end_time": "2023-04-30T20:03:38.705260Z"
    }
   }
  },
  {
   "cell_type": "markdown",
   "source": [],
   "metadata": {
    "collapsed": false
   }
  },
  {
   "cell_type": "code",
   "execution_count": 32,
   "outputs": [],
   "source": [
    "normalized_images = normalize(images)\n",
    "normalized_labels = normalize(labels)\n",
    "normalized_images = np.array_split(normalized_images, len(normalized_images) // batch_size)\n",
    "normalized_labels = np.array_split(normalized_labels, len(normalized_labels) // batch_size)"
   ],
   "metadata": {
    "collapsed": false,
    "ExecuteTime": {
     "start_time": "2023-04-30T20:08:10.120908Z",
     "end_time": "2023-04-30T20:08:10.137452Z"
    }
   }
  },
  {
   "cell_type": "code",
   "execution_count": 42,
   "outputs": [],
   "source": [
    "\n",
    "t_mini_batches = torch.Tensor(np.array(normalized_images))\n",
    "t_label_batches = torch.from_numpy(np.array(normalized_labels))"
   ],
   "metadata": {
    "collapsed": false,
    "ExecuteTime": {
     "start_time": "2023-04-30T20:12:56.089290Z",
     "end_time": "2023-04-30T20:12:56.133301Z"
    }
   }
  },
  {
   "cell_type": "code",
   "execution_count": 43,
   "outputs": [
    {
     "ename": "TypeError",
     "evalue": "only integer tensors of a single element can be converted to an index",
     "output_type": "error",
     "traceback": [
      "\u001B[0;31m---------------------------------------------------------------------------\u001B[0m",
      "\u001B[0;31mTypeError\u001B[0m                                 Traceback (most recent call last)",
      "Cell \u001B[0;32mIn[43], line 3\u001B[0m\n\u001B[1;32m      1\u001B[0m \u001B[38;5;28;01mfor\u001B[39;00m epoch \u001B[38;5;129;01min\u001B[39;00m \u001B[38;5;28mrange\u001B[39m(epochs):\n\u001B[1;32m      2\u001B[0m     \u001B[38;5;28;01mfor\u001B[39;00m batch \u001B[38;5;129;01min\u001B[39;00m \u001B[38;5;28mrange\u001B[39m(batch_size):\n\u001B[0;32m----> 3\u001B[0m         data, target \u001B[38;5;241m=\u001B[39m \u001B[43mVariable\u001B[49m\u001B[43m(\u001B[49m\u001B[43mt_mini_batches\u001B[49m\u001B[43m[\u001B[49m\u001B[43mbatch\u001B[49m\u001B[43m]\u001B[49m\u001B[43m,\u001B[49m\u001B[43m \u001B[49m\u001B[43mVariable\u001B[49m\u001B[43m(\u001B[49m\u001B[43mt_label_batches\u001B[49m\u001B[43m[\u001B[49m\u001B[43mbatch\u001B[49m\u001B[43m]\u001B[49m\u001B[43m)\u001B[49m\u001B[43m)\u001B[49m\n\u001B[1;32m      4\u001B[0m         optimizer\u001B[38;5;241m.\u001B[39mzero_grad()\n\u001B[1;32m      5\u001B[0m         net_out \u001B[38;5;241m=\u001B[39m net(data)\n",
      "\u001B[0;31mTypeError\u001B[0m: only integer tensors of a single element can be converted to an index"
     ]
    }
   ],
   "source": [
    "for epoch in range(epochs):\n",
    "    for batch in range(batch_size):\n",
    "        data, target = Variable(t_mini_batches[batch], Variable(t_label_batches[batch]))\n",
    "        optimizer.zero_grad()\n",
    "        net_out = net(data)\n",
    "        loss = criterion(net_out, target)\n",
    "        loss.backward()\n",
    "        optimizer.step()\n",
    "        if batch % log_interval == 0:\n",
    "            print('Train Epoch: {} [{}/{} ({:.0f}%)]\\tLoss: {:.6f}'.format(\n",
    "                epoch, batch * len(data), len(len(images)),\n",
    "                       100. * batch / len(images), loss.data[0]))"
   ],
   "metadata": {
    "collapsed": false
   }
  },
  {
   "cell_type": "code",
   "execution_count": 37,
   "outputs": [
    {
     "data": {
      "text/plain": "torch.Tensor"
     },
     "execution_count": 37,
     "metadata": {},
     "output_type": "execute_result"
    }
   ],
   "source": [
    "type(t_mini_batches)\n",
    "type(t_label_batches)"
   ],
   "metadata": {
    "collapsed": false,
    "ExecuteTime": {
     "start_time": "2023-04-30T20:09:42.372143Z",
     "end_time": "2023-04-30T20:09:42.389065Z"
    }
   }
  },
  {
   "cell_type": "code",
   "execution_count": null,
   "outputs": [],
   "source": [],
   "metadata": {
    "collapsed": false
   }
  }
 ],
 "metadata": {
  "kernelspec": {
   "display_name": "Python 3 (ipykernel)",
   "language": "python",
   "name": "python3"
  },
  "language_info": {
   "codemirror_mode": {
    "name": "ipython",
    "version": 2
   },
   "file_extension": ".py",
   "mimetype": "text/x-python",
   "name": "python",
   "nbconvert_exporter": "python",
   "pygments_lexer": "ipython2",
   "version": "2.7.6"
  }
 },
 "nbformat": 4,
 "nbformat_minor": 1
}
